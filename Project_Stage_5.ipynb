{
  "nbformat": 4,
  "nbformat_minor": 0,
  "metadata": {
    "colab": {
      "provenance": [],
      "toc_visible": true,
      "authorship_tag": "ABX9TyNmZhd7uVvQ1n6IviIGvAKd",
      "include_colab_link": true
    },
    "kernelspec": {
      "name": "python3",
      "display_name": "Python 3"
    },
    "language_info": {
      "name": "python"
    }
  },
  "cells": [
    {
      "cell_type": "markdown",
      "metadata": {
        "id": "view-in-github",
        "colab_type": "text"
      },
      "source": [
        "<a href=\"https://colab.research.google.com/github/aiwayemi/Group-1/blob/main/Project_Stage_5.ipynb\" target=\"_parent\"><img src=\"https://colab.research.google.com/assets/colab-badge.svg\" alt=\"Open In Colab\"/></a>"
      ]
    },
    {
      "cell_type": "markdown",
      "source": [
        "\n",
        "''' Project Stage - V (Dashboard)\n",
        "Goals\n",
        "\n",
        "The final stage aims a developing a simple interactive dashboard based on the analysis you have done so far. In this we will be utilizing Plotly (https://plotly.com/) along with Dash (https://plotly.com/dash/) as our framework.\n",
        "\n",
        "Refer here for Plotly: https://github.com/q-tong/CS405-605-Data-Science/tree/main/Fall2023/Lecture/5.Visualization/Visualization\n",
        "\n",
        "Getting started with Dash: https://www.youtube.com/watch?v=hSPmj7mK6ng\n",
        "\n",
        "PS: This can be invoked from Jupyter, see here: https://medium.com/plotly/introducing-jupyterdash-811f1f57c02e\n",
        "Tasks for stage V (team):\n",
        "Task 1: (70 pts)\n",
        "\n",
        "- Main graph\n",
        "    - Allow for selection of date to show the trend of COVID-19 cases and deaths. (30)\n",
        "    - Allow for linear or log mode selection on the number of cases and deaths. (10)\n",
        "    - Incorporate your best model prediction trend line - Linear / Non-Linear. (30)\n",
        "    - Ex: https://ourworldindata.org/coronavirus\n",
        "\n",
        "\n",
        "Task 2: (30 pts)\n",
        "\n",
        "- Trend\n",
        "    - Plot the trend line using moving average (https://en.wikipedia.org/wiki/Moving_average). Use 7-day moving average. (15)\n",
        "    - Allow for selection of multiple states on the same graph. (15)\n",
        "\n",
        "Deliverable\n",
        "\n",
        "    Take screenshots of Report upload on canvas.\n",
        "    Each member creates separate notebooks for member tasks. Upload all notebooks to Github Repository.\n",
        "\n",
        "Deadline: 04/19/2024\n",
        "Final Presentation: April 22, 2024 & April 24, 2024\n",
        "\n",
        "The final presentation is on April 22 and April 24. Each group will have up to 20 minutes slot to showcase their whole project process (make a summary of each stage) and share the results/reports achieved as a team, as well as individual contributions. You need to create your presentation using \"Microsoft PowerPoint\". Within your team, you can either nominate a single presenter or allow team members to take turns presenting.\n",
        "\n",
        "Please note that it's crucial for all team members to be present during the presentation. The instructor and audience might pose questions that require input from any team member, so your collective presence is valuable. Look forward to your insightful presentations!\n",
        "\n",
        "Presentation order (Presentation 1,2 is on April 22, Monday; Presentation 3 is on April 24, Wednesday):\n",
        "'''"
      ],
      "metadata": {
        "id": "Huaf79VDsDuL"
      }
    },
    {
      "cell_type": "code",
      "source": [],
      "metadata": {
        "id": "365BqjdGrRmc"
      },
      "execution_count": null,
      "outputs": []
    }
  ]
}