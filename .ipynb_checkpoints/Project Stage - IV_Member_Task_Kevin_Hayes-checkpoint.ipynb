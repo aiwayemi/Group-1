{
 "cells": [
  {
   "cell_type": "markdown",
   "metadata": {},
   "source": [
    "## Project Stage - IV (Basic Machine Learning)  "
   ]
  },
  {
   "cell_type": "markdown",
   "metadata": {},
   "source": [
    "## Goals\n",
    "\n",
    "The goal of Stage IV is to utlize machine learning and statistical models to predict the trend of COVID-19 cases / deaths.\n"
   ]
  },
  {
   "cell_type": "markdown",
   "metadata": {},
   "source": [
    "### Tasks for Stage IV: (The total grade will be 80 points.)\n",
    "\n",
    "#### Task 1: \n",
    "\n",
    "- Member: (60 points)\n",
    "    - Utilize Linear and Non-Linear (polynomial with degree n) regression models to compare trends for a single state (each member should choose different state) and its counties (top 5 with highest number of cases). Start your data from 2020.06.01 (Monday) to 2021.01.03 (Sunday). \n",
    "        - X-Axis - number of days, Y-Axis number of new cases and deaths. Calcluate error using RMSE.(10 points)\n",
    "        - Identify which counties are most at risk. Model for top 5 counties with cases within a state and describe their trends. (10 points)\n",
    "        - Perform hypothesis tests on questions identified in Stage III. (30 points)\n",
    "            - e.x. *Does higher employment data (overall employment numbers) lead to higher covid case numbers or more rapid increase in covid cases.*. Here you would compare the covid cases to the state or county level enrichment data to prove or disprove your null hypothesis. In this case there will be a two tail - two sample t-test to see if there is a difference and then one-tail - two sample t-test to show higher or lower.\n",
    "            - you can also make 3 new hypotheses and do hypothesis tests on them.\n",
    "            - Depending on your type of data you can also perform Chi-square test for categorical hypothesis testing. \n",
    "    - For each of the aforemention analysis plot figures, the figures should include (10 points)\n",
    "        - trend line (based on the datasets from 2020.06.01 (Monday) to 2021.01.03 (Sunday)).\n",
    "        - prediction path (forecast 1 week).\n",
    "        - confidence intervals (error in prediction). (Further materials you may need to explore: https://lmc2179.github.io/posts/confidence_prediction.html; https://www.geeksforgeeks.org/how-to-plot-a-confidence-interval-in-python/)\n",
    "\n",
    "**Deliverable**\n",
    "- Each member creates separate notebooks for member tasks.\n",
    "- Upload all notebooks and reports to Canvas. Attention: You need to submit both the team work and the member work. The team work will have a same grade within you teammates."
   ]
  },
  {
   "cell_type": "markdown",
   "metadata": {},
   "source": [
    "In the upcoming Project Stage IV Review presentation on April 1, 2024, each group will have up to 15 minutes slot to showcase their results. It's strongly suggested that you use PowerPoint for your presentation. This will also facilitate seamless compilation of everyone's contributions for our end-of-semester final presentation"
   ]
  },
  {
   "cell_type": "markdown",
   "metadata": {},
   "source": [
    "Presentation order:"
   ]
  },
  {
   "cell_type": "markdown",
   "metadata": {},
   "source": [
    "# Utilize Linear and Non-Linear (polynomial with degree n) regression models to compare trends for a single state (each member should choose different state) and its counties (top 5 with highest number of cases). Start your data from 2020.06.01 (Monday) to 2021.01.03 (Sunday)."
   ]
  },
  {
   "cell_type": "markdown",
   "metadata": {},
   "source": [
    "## X-Axis - number of days, Y-Axis number of new cases and deaths. Calcluate error using RMSE.(10 points)"
   ]
  },
  {
   "cell_type": "code",
   "execution_count": 1,
   "metadata": {},
   "outputs": [
    {
     "data": {
      "text/html": [
       "<div>\n",
       "<style scoped>\n",
       "    .dataframe tbody tr th:only-of-type {\n",
       "        vertical-align: middle;\n",
       "    }\n",
       "\n",
       "    .dataframe tbody tr th {\n",
       "        vertical-align: top;\n",
       "    }\n",
       "\n",
       "    .dataframe thead th {\n",
       "        text-align: right;\n",
       "    }\n",
       "</style>\n",
       "<table border=\"1\" class=\"dataframe\">\n",
       "  <thead>\n",
       "    <tr style=\"text-align: right;\">\n",
       "      <th></th>\n",
       "      <th>countyFIPS</th>\n",
       "      <th>County Name</th>\n",
       "      <th>State</th>\n",
       "      <th>StateFIPS</th>\n",
       "      <th>2020-01-22</th>\n",
       "      <th>2020-01-23</th>\n",
       "      <th>2020-01-24</th>\n",
       "      <th>2020-01-25</th>\n",
       "      <th>2020-01-26</th>\n",
       "      <th>2020-01-27</th>\n",
       "      <th>...</th>\n",
       "      <th>2023-07-14</th>\n",
       "      <th>2023-07-15</th>\n",
       "      <th>2023-07-16</th>\n",
       "      <th>2023-07-17</th>\n",
       "      <th>2023-07-18</th>\n",
       "      <th>2023-07-19</th>\n",
       "      <th>2023-07-20</th>\n",
       "      <th>2023-07-21</th>\n",
       "      <th>2023-07-22</th>\n",
       "      <th>2023-07-23</th>\n",
       "    </tr>\n",
       "  </thead>\n",
       "  <tbody>\n",
       "    <tr>\n",
       "      <th>0</th>\n",
       "      <td>0</td>\n",
       "      <td>Statewide Unallocated</td>\n",
       "      <td>AL</td>\n",
       "      <td>1</td>\n",
       "      <td>0</td>\n",
       "      <td>0</td>\n",
       "      <td>0</td>\n",
       "      <td>0</td>\n",
       "      <td>0</td>\n",
       "      <td>0</td>\n",
       "      <td>...</td>\n",
       "      <td>0</td>\n",
       "      <td>0</td>\n",
       "      <td>0</td>\n",
       "      <td>0</td>\n",
       "      <td>0</td>\n",
       "      <td>0</td>\n",
       "      <td>0</td>\n",
       "      <td>0</td>\n",
       "      <td>0</td>\n",
       "      <td>0</td>\n",
       "    </tr>\n",
       "    <tr>\n",
       "      <th>1</th>\n",
       "      <td>1001</td>\n",
       "      <td>Autauga County</td>\n",
       "      <td>AL</td>\n",
       "      <td>1</td>\n",
       "      <td>0</td>\n",
       "      <td>0</td>\n",
       "      <td>0</td>\n",
       "      <td>0</td>\n",
       "      <td>0</td>\n",
       "      <td>0</td>\n",
       "      <td>...</td>\n",
       "      <td>19913</td>\n",
       "      <td>19913</td>\n",
       "      <td>19913</td>\n",
       "      <td>19913</td>\n",
       "      <td>19913</td>\n",
       "      <td>19913</td>\n",
       "      <td>19913</td>\n",
       "      <td>19913</td>\n",
       "      <td>19913</td>\n",
       "      <td>19913</td>\n",
       "    </tr>\n",
       "    <tr>\n",
       "      <th>2</th>\n",
       "      <td>1003</td>\n",
       "      <td>Baldwin County</td>\n",
       "      <td>AL</td>\n",
       "      <td>1</td>\n",
       "      <td>0</td>\n",
       "      <td>0</td>\n",
       "      <td>0</td>\n",
       "      <td>0</td>\n",
       "      <td>0</td>\n",
       "      <td>0</td>\n",
       "      <td>...</td>\n",
       "      <td>70521</td>\n",
       "      <td>70521</td>\n",
       "      <td>70521</td>\n",
       "      <td>70521</td>\n",
       "      <td>70521</td>\n",
       "      <td>70521</td>\n",
       "      <td>70521</td>\n",
       "      <td>70521</td>\n",
       "      <td>70521</td>\n",
       "      <td>70521</td>\n",
       "    </tr>\n",
       "    <tr>\n",
       "      <th>3</th>\n",
       "      <td>1005</td>\n",
       "      <td>Barbour County</td>\n",
       "      <td>AL</td>\n",
       "      <td>1</td>\n",
       "      <td>0</td>\n",
       "      <td>0</td>\n",
       "      <td>0</td>\n",
       "      <td>0</td>\n",
       "      <td>0</td>\n",
       "      <td>0</td>\n",
       "      <td>...</td>\n",
       "      <td>7582</td>\n",
       "      <td>7582</td>\n",
       "      <td>7582</td>\n",
       "      <td>7582</td>\n",
       "      <td>7582</td>\n",
       "      <td>7582</td>\n",
       "      <td>7582</td>\n",
       "      <td>7582</td>\n",
       "      <td>7582</td>\n",
       "      <td>7582</td>\n",
       "    </tr>\n",
       "    <tr>\n",
       "      <th>4</th>\n",
       "      <td>1007</td>\n",
       "      <td>Bibb County</td>\n",
       "      <td>AL</td>\n",
       "      <td>1</td>\n",
       "      <td>0</td>\n",
       "      <td>0</td>\n",
       "      <td>0</td>\n",
       "      <td>0</td>\n",
       "      <td>0</td>\n",
       "      <td>0</td>\n",
       "      <td>...</td>\n",
       "      <td>8149</td>\n",
       "      <td>8149</td>\n",
       "      <td>8149</td>\n",
       "      <td>8149</td>\n",
       "      <td>8149</td>\n",
       "      <td>8149</td>\n",
       "      <td>8149</td>\n",
       "      <td>8149</td>\n",
       "      <td>8149</td>\n",
       "      <td>8149</td>\n",
       "    </tr>\n",
       "    <tr>\n",
       "      <th>...</th>\n",
       "      <td>...</td>\n",
       "      <td>...</td>\n",
       "      <td>...</td>\n",
       "      <td>...</td>\n",
       "      <td>...</td>\n",
       "      <td>...</td>\n",
       "      <td>...</td>\n",
       "      <td>...</td>\n",
       "      <td>...</td>\n",
       "      <td>...</td>\n",
       "      <td>...</td>\n",
       "      <td>...</td>\n",
       "      <td>...</td>\n",
       "      <td>...</td>\n",
       "      <td>...</td>\n",
       "      <td>...</td>\n",
       "      <td>...</td>\n",
       "      <td>...</td>\n",
       "      <td>...</td>\n",
       "      <td>...</td>\n",
       "      <td>...</td>\n",
       "    </tr>\n",
       "    <tr>\n",
       "      <th>3188</th>\n",
       "      <td>56037</td>\n",
       "      <td>Sweetwater County</td>\n",
       "      <td>WY</td>\n",
       "      <td>56</td>\n",
       "      <td>0</td>\n",
       "      <td>0</td>\n",
       "      <td>0</td>\n",
       "      <td>0</td>\n",
       "      <td>0</td>\n",
       "      <td>0</td>\n",
       "      <td>...</td>\n",
       "      <td>12645</td>\n",
       "      <td>12645</td>\n",
       "      <td>12645</td>\n",
       "      <td>12645</td>\n",
       "      <td>12645</td>\n",
       "      <td>12645</td>\n",
       "      <td>12645</td>\n",
       "      <td>12645</td>\n",
       "      <td>12645</td>\n",
       "      <td>12645</td>\n",
       "    </tr>\n",
       "    <tr>\n",
       "      <th>3189</th>\n",
       "      <td>56039</td>\n",
       "      <td>Teton County</td>\n",
       "      <td>WY</td>\n",
       "      <td>56</td>\n",
       "      <td>0</td>\n",
       "      <td>0</td>\n",
       "      <td>0</td>\n",
       "      <td>0</td>\n",
       "      <td>0</td>\n",
       "      <td>0</td>\n",
       "      <td>...</td>\n",
       "      <td>12206</td>\n",
       "      <td>12206</td>\n",
       "      <td>12206</td>\n",
       "      <td>12206</td>\n",
       "      <td>12206</td>\n",
       "      <td>12206</td>\n",
       "      <td>12206</td>\n",
       "      <td>12206</td>\n",
       "      <td>12206</td>\n",
       "      <td>12206</td>\n",
       "    </tr>\n",
       "    <tr>\n",
       "      <th>3190</th>\n",
       "      <td>56041</td>\n",
       "      <td>Uinta County</td>\n",
       "      <td>WY</td>\n",
       "      <td>56</td>\n",
       "      <td>0</td>\n",
       "      <td>0</td>\n",
       "      <td>0</td>\n",
       "      <td>0</td>\n",
       "      <td>0</td>\n",
       "      <td>0</td>\n",
       "      <td>...</td>\n",
       "      <td>6468</td>\n",
       "      <td>6468</td>\n",
       "      <td>6468</td>\n",
       "      <td>6468</td>\n",
       "      <td>6468</td>\n",
       "      <td>6468</td>\n",
       "      <td>6468</td>\n",
       "      <td>6468</td>\n",
       "      <td>6468</td>\n",
       "      <td>6468</td>\n",
       "    </tr>\n",
       "    <tr>\n",
       "      <th>3191</th>\n",
       "      <td>56043</td>\n",
       "      <td>Washakie County</td>\n",
       "      <td>WY</td>\n",
       "      <td>56</td>\n",
       "      <td>0</td>\n",
       "      <td>0</td>\n",
       "      <td>0</td>\n",
       "      <td>0</td>\n",
       "      <td>0</td>\n",
       "      <td>0</td>\n",
       "      <td>...</td>\n",
       "      <td>2640</td>\n",
       "      <td>2640</td>\n",
       "      <td>2640</td>\n",
       "      <td>2640</td>\n",
       "      <td>2640</td>\n",
       "      <td>2640</td>\n",
       "      <td>2640</td>\n",
       "      <td>2640</td>\n",
       "      <td>2640</td>\n",
       "      <td>2640</td>\n",
       "    </tr>\n",
       "    <tr>\n",
       "      <th>3192</th>\n",
       "      <td>56045</td>\n",
       "      <td>Weston County</td>\n",
       "      <td>WY</td>\n",
       "      <td>56</td>\n",
       "      <td>0</td>\n",
       "      <td>0</td>\n",
       "      <td>0</td>\n",
       "      <td>0</td>\n",
       "      <td>0</td>\n",
       "      <td>0</td>\n",
       "      <td>...</td>\n",
       "      <td>1914</td>\n",
       "      <td>1914</td>\n",
       "      <td>1914</td>\n",
       "      <td>1914</td>\n",
       "      <td>1914</td>\n",
       "      <td>1914</td>\n",
       "      <td>1914</td>\n",
       "      <td>1914</td>\n",
       "      <td>1914</td>\n",
       "      <td>1914</td>\n",
       "    </tr>\n",
       "  </tbody>\n",
       "</table>\n",
       "<p>3193 rows × 1269 columns</p>\n",
       "</div>"
      ],
      "text/plain": [
       "      countyFIPS            County Name State  StateFIPS  2020-01-22  \\\n",
       "0              0  Statewide Unallocated    AL          1           0   \n",
       "1           1001        Autauga County     AL          1           0   \n",
       "2           1003        Baldwin County     AL          1           0   \n",
       "3           1005        Barbour County     AL          1           0   \n",
       "4           1007           Bibb County     AL          1           0   \n",
       "...          ...                    ...   ...        ...         ...   \n",
       "3188       56037     Sweetwater County     WY         56           0   \n",
       "3189       56039          Teton County     WY         56           0   \n",
       "3190       56041          Uinta County     WY         56           0   \n",
       "3191       56043       Washakie County     WY         56           0   \n",
       "3192       56045         Weston County     WY         56           0   \n",
       "\n",
       "      2020-01-23  2020-01-24  2020-01-25  2020-01-26  2020-01-27  ...  \\\n",
       "0              0           0           0           0           0  ...   \n",
       "1              0           0           0           0           0  ...   \n",
       "2              0           0           0           0           0  ...   \n",
       "3              0           0           0           0           0  ...   \n",
       "4              0           0           0           0           0  ...   \n",
       "...          ...         ...         ...         ...         ...  ...   \n",
       "3188           0           0           0           0           0  ...   \n",
       "3189           0           0           0           0           0  ...   \n",
       "3190           0           0           0           0           0  ...   \n",
       "3191           0           0           0           0           0  ...   \n",
       "3192           0           0           0           0           0  ...   \n",
       "\n",
       "      2023-07-14  2023-07-15  2023-07-16  2023-07-17  2023-07-18  2023-07-19  \\\n",
       "0              0           0           0           0           0           0   \n",
       "1          19913       19913       19913       19913       19913       19913   \n",
       "2          70521       70521       70521       70521       70521       70521   \n",
       "3           7582        7582        7582        7582        7582        7582   \n",
       "4           8149        8149        8149        8149        8149        8149   \n",
       "...          ...         ...         ...         ...         ...         ...   \n",
       "3188       12645       12645       12645       12645       12645       12645   \n",
       "3189       12206       12206       12206       12206       12206       12206   \n",
       "3190        6468        6468        6468        6468        6468        6468   \n",
       "3191        2640        2640        2640        2640        2640        2640   \n",
       "3192        1914        1914        1914        1914        1914        1914   \n",
       "\n",
       "      2023-07-20  2023-07-21  2023-07-22  2023-07-23  \n",
       "0              0           0           0           0  \n",
       "1          19913       19913       19913       19913  \n",
       "2          70521       70521       70521       70521  \n",
       "3           7582        7582        7582        7582  \n",
       "4           8149        8149        8149        8149  \n",
       "...          ...         ...         ...         ...  \n",
       "3188       12645       12645       12645       12645  \n",
       "3189       12206       12206       12206       12206  \n",
       "3190        6468        6468        6468        6468  \n",
       "3191        2640        2640        2640        2640  \n",
       "3192        1914        1914        1914        1914  \n",
       "\n",
       "[3193 rows x 1269 columns]"
      ]
     },
     "execution_count": 1,
     "metadata": {},
     "output_type": "execute_result"
    }
   ],
   "source": [
    "import pandas as pd\n",
    "import seaborn as sns\n",
    "import numpy as np\n",
    "import datetime\n",
    "import scipy.stats as stats\n",
    "import matplotlib.pyplot as plt\n",
    "from sklearn.linear_model import LinearRegression\n",
    "from sklearn.preprocessing import PolynomialFeatures\n",
    "from sklearn.model_selection import train_test_split\n",
    "from sktime.forecasting.model_selection import temporal_train_test_split\n",
    "from sktime.forecasting.base import ForecastingHorizon\n",
    "from sktime.forecasting.compose import make_reduction\n",
    "from sklearn.metrics import mean_squared_error\n",
    "from sktime.utils.plotting import plot_series\n",
    "import math\n",
    "import statistics\n",
    "import scipy.stats as stats\n",
    "\n",
    "import plotly.express as px\n",
    "\n",
    "\n",
    "pd.options.plotting.backend = 'plotly'\n",
    "#Using the functions that Kol used.\n",
    "cases = pd.read_csv(\"covid_confirmed_usafacts.csv\")\n",
    "deaths = pd.read_csv(\"covid_deaths_usafacts.csv\")\n",
    "\n",
    "def get_dates(data): #function from stage 2\n",
    "    dates = data.loc[:, [i not in [\"countyFIPS\",\"County Name\", \"State\", \"StateFIPS\"] for i in data]] #Extract non dates\n",
    "    \n",
    "    dates.columns = pd.to_datetime(dates.columns) #Fix columns to be date times\n",
    "    \n",
    "    dates = dates.loc[:, [(i >= datetime.datetime(2020, 5, 25)) and (i <= datetime.datetime(2021, 1, 10)) for i in dates]] #Extract correct time\n",
    "    return dates #make dates start 1 week earlier for get_weekly() purposes\n",
    "\n",
    "def get_weekly(dates): #tweaked function from stage 2\n",
    "\n",
    "    weeks = [range(i, i + 7) for i in range(0, len(dates.columns), 7)]\n",
    "    dates.iloc[:, weeks[0]]\n",
    "    \n",
    "    stats = pd.DataFrame({\"week\": [],\"sum\" : []})\n",
    "    \n",
    "    for i in range(len(weeks)-1):\n",
    "        date = dates.iloc[:, weeks[i+1]].iloc[0, :].keys()[0]\n",
    "        #Subtract numbers from previous week to get new case/death data (current data is cumulative)\n",
    "        week = (dates.iloc[:, weeks[i+1]].sum(axis = 1)) - (dates.iloc[:, weeks[i]].sum(axis = 1))\n",
    "        wsum = week.sum()/7/7\n",
    "        new_row = pd.DataFrame({\"week\": date,\"sum\" : (wsum)}, index=[i])\n",
    "        stats = pd.concat([stats, new_row])\n",
    "    return stats\n",
    "\n",
    "cases"
   ]
  },
  {
   "cell_type": "code",
   "execution_count": 2,
   "metadata": {},
   "outputs": [
    {
     "data": {
      "text/html": [
       "<div>\n",
       "<style scoped>\n",
       "    .dataframe tbody tr th:only-of-type {\n",
       "        vertical-align: middle;\n",
       "    }\n",
       "\n",
       "    .dataframe tbody tr th {\n",
       "        vertical-align: top;\n",
       "    }\n",
       "\n",
       "    .dataframe thead th {\n",
       "        text-align: right;\n",
       "    }\n",
       "</style>\n",
       "<table border=\"1\" class=\"dataframe\">\n",
       "  <thead>\n",
       "    <tr style=\"text-align: right;\">\n",
       "      <th></th>\n",
       "      <th>countyFIPS</th>\n",
       "      <th>County Name</th>\n",
       "      <th>State</th>\n",
       "      <th>StateFIPS</th>\n",
       "      <th>2020-01-22</th>\n",
       "      <th>2020-01-23</th>\n",
       "      <th>2020-01-24</th>\n",
       "      <th>2020-01-25</th>\n",
       "      <th>2020-01-26</th>\n",
       "      <th>2020-01-27</th>\n",
       "      <th>...</th>\n",
       "      <th>2023-07-14</th>\n",
       "      <th>2023-07-15</th>\n",
       "      <th>2023-07-16</th>\n",
       "      <th>2023-07-17</th>\n",
       "      <th>2023-07-18</th>\n",
       "      <th>2023-07-19</th>\n",
       "      <th>2023-07-20</th>\n",
       "      <th>2023-07-21</th>\n",
       "      <th>2023-07-22</th>\n",
       "      <th>2023-07-23</th>\n",
       "    </tr>\n",
       "  </thead>\n",
       "  <tbody>\n",
       "    <tr>\n",
       "      <th>329</th>\n",
       "      <td>0</td>\n",
       "      <td>Statewide Unallocated</td>\n",
       "      <td>FL</td>\n",
       "      <td>12</td>\n",
       "      <td>0</td>\n",
       "      <td>0</td>\n",
       "      <td>0</td>\n",
       "      <td>0</td>\n",
       "      <td>0</td>\n",
       "      <td>0</td>\n",
       "      <td>...</td>\n",
       "      <td>20363</td>\n",
       "      <td>20363</td>\n",
       "      <td>20363</td>\n",
       "      <td>20363</td>\n",
       "      <td>20363</td>\n",
       "      <td>20363</td>\n",
       "      <td>20363</td>\n",
       "      <td>20363</td>\n",
       "      <td>20363</td>\n",
       "      <td>20363</td>\n",
       "    </tr>\n",
       "    <tr>\n",
       "      <th>330</th>\n",
       "      <td>12001</td>\n",
       "      <td>Alachua County</td>\n",
       "      <td>FL</td>\n",
       "      <td>12</td>\n",
       "      <td>0</td>\n",
       "      <td>0</td>\n",
       "      <td>0</td>\n",
       "      <td>0</td>\n",
       "      <td>0</td>\n",
       "      <td>0</td>\n",
       "      <td>...</td>\n",
       "      <td>90634</td>\n",
       "      <td>90634</td>\n",
       "      <td>90634</td>\n",
       "      <td>90634</td>\n",
       "      <td>90634</td>\n",
       "      <td>90634</td>\n",
       "      <td>90634</td>\n",
       "      <td>90634</td>\n",
       "      <td>90634</td>\n",
       "      <td>90634</td>\n",
       "    </tr>\n",
       "    <tr>\n",
       "      <th>331</th>\n",
       "      <td>12003</td>\n",
       "      <td>Baker County</td>\n",
       "      <td>FL</td>\n",
       "      <td>12</td>\n",
       "      <td>0</td>\n",
       "      <td>0</td>\n",
       "      <td>0</td>\n",
       "      <td>0</td>\n",
       "      <td>0</td>\n",
       "      <td>0</td>\n",
       "      <td>...</td>\n",
       "      <td>10787</td>\n",
       "      <td>10787</td>\n",
       "      <td>10787</td>\n",
       "      <td>10787</td>\n",
       "      <td>10787</td>\n",
       "      <td>10787</td>\n",
       "      <td>10787</td>\n",
       "      <td>10787</td>\n",
       "      <td>10787</td>\n",
       "      <td>10787</td>\n",
       "    </tr>\n",
       "    <tr>\n",
       "      <th>332</th>\n",
       "      <td>12005</td>\n",
       "      <td>Bay County</td>\n",
       "      <td>FL</td>\n",
       "      <td>12</td>\n",
       "      <td>0</td>\n",
       "      <td>0</td>\n",
       "      <td>0</td>\n",
       "      <td>0</td>\n",
       "      <td>0</td>\n",
       "      <td>0</td>\n",
       "      <td>...</td>\n",
       "      <td>55836</td>\n",
       "      <td>55836</td>\n",
       "      <td>55836</td>\n",
       "      <td>55836</td>\n",
       "      <td>55836</td>\n",
       "      <td>55836</td>\n",
       "      <td>55836</td>\n",
       "      <td>55836</td>\n",
       "      <td>55836</td>\n",
       "      <td>55836</td>\n",
       "    </tr>\n",
       "    <tr>\n",
       "      <th>333</th>\n",
       "      <td>12007</td>\n",
       "      <td>Bradford County</td>\n",
       "      <td>FL</td>\n",
       "      <td>12</td>\n",
       "      <td>0</td>\n",
       "      <td>0</td>\n",
       "      <td>0</td>\n",
       "      <td>0</td>\n",
       "      <td>0</td>\n",
       "      <td>0</td>\n",
       "      <td>...</td>\n",
       "      <td>9324</td>\n",
       "      <td>9324</td>\n",
       "      <td>9324</td>\n",
       "      <td>9324</td>\n",
       "      <td>9324</td>\n",
       "      <td>9324</td>\n",
       "      <td>9324</td>\n",
       "      <td>9324</td>\n",
       "      <td>9324</td>\n",
       "      <td>9324</td>\n",
       "    </tr>\n",
       "    <tr>\n",
       "      <th>...</th>\n",
       "      <td>...</td>\n",
       "      <td>...</td>\n",
       "      <td>...</td>\n",
       "      <td>...</td>\n",
       "      <td>...</td>\n",
       "      <td>...</td>\n",
       "      <td>...</td>\n",
       "      <td>...</td>\n",
       "      <td>...</td>\n",
       "      <td>...</td>\n",
       "      <td>...</td>\n",
       "      <td>...</td>\n",
       "      <td>...</td>\n",
       "      <td>...</td>\n",
       "      <td>...</td>\n",
       "      <td>...</td>\n",
       "      <td>...</td>\n",
       "      <td>...</td>\n",
       "      <td>...</td>\n",
       "      <td>...</td>\n",
       "      <td>...</td>\n",
       "    </tr>\n",
       "    <tr>\n",
       "      <th>392</th>\n",
       "      <td>12125</td>\n",
       "      <td>Union County</td>\n",
       "      <td>FL</td>\n",
       "      <td>12</td>\n",
       "      <td>0</td>\n",
       "      <td>0</td>\n",
       "      <td>0</td>\n",
       "      <td>0</td>\n",
       "      <td>0</td>\n",
       "      <td>0</td>\n",
       "      <td>...</td>\n",
       "      <td>5140</td>\n",
       "      <td>5140</td>\n",
       "      <td>5140</td>\n",
       "      <td>5140</td>\n",
       "      <td>5140</td>\n",
       "      <td>5140</td>\n",
       "      <td>5140</td>\n",
       "      <td>5140</td>\n",
       "      <td>5140</td>\n",
       "      <td>5140</td>\n",
       "    </tr>\n",
       "    <tr>\n",
       "      <th>393</th>\n",
       "      <td>12127</td>\n",
       "      <td>Volusia County</td>\n",
       "      <td>FL</td>\n",
       "      <td>12</td>\n",
       "      <td>0</td>\n",
       "      <td>0</td>\n",
       "      <td>0</td>\n",
       "      <td>0</td>\n",
       "      <td>0</td>\n",
       "      <td>0</td>\n",
       "      <td>...</td>\n",
       "      <td>152326</td>\n",
       "      <td>152326</td>\n",
       "      <td>152326</td>\n",
       "      <td>152326</td>\n",
       "      <td>152326</td>\n",
       "      <td>152326</td>\n",
       "      <td>152326</td>\n",
       "      <td>152326</td>\n",
       "      <td>152326</td>\n",
       "      <td>152326</td>\n",
       "    </tr>\n",
       "    <tr>\n",
       "      <th>394</th>\n",
       "      <td>12129</td>\n",
       "      <td>Wakulla County</td>\n",
       "      <td>FL</td>\n",
       "      <td>12</td>\n",
       "      <td>0</td>\n",
       "      <td>0</td>\n",
       "      <td>0</td>\n",
       "      <td>0</td>\n",
       "      <td>0</td>\n",
       "      <td>0</td>\n",
       "      <td>...</td>\n",
       "      <td>12314</td>\n",
       "      <td>12314</td>\n",
       "      <td>12314</td>\n",
       "      <td>12314</td>\n",
       "      <td>12314</td>\n",
       "      <td>12314</td>\n",
       "      <td>12314</td>\n",
       "      <td>12314</td>\n",
       "      <td>12314</td>\n",
       "      <td>12314</td>\n",
       "    </tr>\n",
       "    <tr>\n",
       "      <th>395</th>\n",
       "      <td>12131</td>\n",
       "      <td>Walton County</td>\n",
       "      <td>FL</td>\n",
       "      <td>12</td>\n",
       "      <td>0</td>\n",
       "      <td>0</td>\n",
       "      <td>0</td>\n",
       "      <td>0</td>\n",
       "      <td>0</td>\n",
       "      <td>0</td>\n",
       "      <td>...</td>\n",
       "      <td>19888</td>\n",
       "      <td>19888</td>\n",
       "      <td>19888</td>\n",
       "      <td>19888</td>\n",
       "      <td>19888</td>\n",
       "      <td>19888</td>\n",
       "      <td>19888</td>\n",
       "      <td>19888</td>\n",
       "      <td>19888</td>\n",
       "      <td>19888</td>\n",
       "    </tr>\n",
       "    <tr>\n",
       "      <th>396</th>\n",
       "      <td>12133</td>\n",
       "      <td>Washington County</td>\n",
       "      <td>FL</td>\n",
       "      <td>12</td>\n",
       "      <td>0</td>\n",
       "      <td>0</td>\n",
       "      <td>0</td>\n",
       "      <td>0</td>\n",
       "      <td>0</td>\n",
       "      <td>0</td>\n",
       "      <td>...</td>\n",
       "      <td>7731</td>\n",
       "      <td>7731</td>\n",
       "      <td>7731</td>\n",
       "      <td>7731</td>\n",
       "      <td>7731</td>\n",
       "      <td>7731</td>\n",
       "      <td>7731</td>\n",
       "      <td>7731</td>\n",
       "      <td>7731</td>\n",
       "      <td>7731</td>\n",
       "    </tr>\n",
       "  </tbody>\n",
       "</table>\n",
       "<p>68 rows × 1269 columns</p>\n",
       "</div>"
      ],
      "text/plain": [
       "     countyFIPS            County Name State  StateFIPS  2020-01-22  \\\n",
       "329           0  Statewide Unallocated    FL         12           0   \n",
       "330       12001        Alachua County     FL         12           0   \n",
       "331       12003          Baker County     FL         12           0   \n",
       "332       12005            Bay County     FL         12           0   \n",
       "333       12007       Bradford County     FL         12           0   \n",
       "..          ...                    ...   ...        ...         ...   \n",
       "392       12125          Union County     FL         12           0   \n",
       "393       12127        Volusia County     FL         12           0   \n",
       "394       12129        Wakulla County     FL         12           0   \n",
       "395       12131         Walton County     FL         12           0   \n",
       "396       12133     Washington County     FL         12           0   \n",
       "\n",
       "     2020-01-23  2020-01-24  2020-01-25  2020-01-26  2020-01-27  ...  \\\n",
       "329           0           0           0           0           0  ...   \n",
       "330           0           0           0           0           0  ...   \n",
       "331           0           0           0           0           0  ...   \n",
       "332           0           0           0           0           0  ...   \n",
       "333           0           0           0           0           0  ...   \n",
       "..          ...         ...         ...         ...         ...  ...   \n",
       "392           0           0           0           0           0  ...   \n",
       "393           0           0           0           0           0  ...   \n",
       "394           0           0           0           0           0  ...   \n",
       "395           0           0           0           0           0  ...   \n",
       "396           0           0           0           0           0  ...   \n",
       "\n",
       "     2023-07-14  2023-07-15  2023-07-16  2023-07-17  2023-07-18  2023-07-19  \\\n",
       "329       20363       20363       20363       20363       20363       20363   \n",
       "330       90634       90634       90634       90634       90634       90634   \n",
       "331       10787       10787       10787       10787       10787       10787   \n",
       "332       55836       55836       55836       55836       55836       55836   \n",
       "333        9324        9324        9324        9324        9324        9324   \n",
       "..          ...         ...         ...         ...         ...         ...   \n",
       "392        5140        5140        5140        5140        5140        5140   \n",
       "393      152326      152326      152326      152326      152326      152326   \n",
       "394       12314       12314       12314       12314       12314       12314   \n",
       "395       19888       19888       19888       19888       19888       19888   \n",
       "396        7731        7731        7731        7731        7731        7731   \n",
       "\n",
       "     2023-07-20  2023-07-21  2023-07-22  2023-07-23  \n",
       "329       20363       20363       20363       20363  \n",
       "330       90634       90634       90634       90634  \n",
       "331       10787       10787       10787       10787  \n",
       "332       55836       55836       55836       55836  \n",
       "333        9324        9324        9324        9324  \n",
       "..          ...         ...         ...         ...  \n",
       "392        5140        5140        5140        5140  \n",
       "393      152326      152326      152326      152326  \n",
       "394       12314       12314       12314       12314  \n",
       "395       19888       19888       19888       19888  \n",
       "396        7731        7731        7731        7731  \n",
       "\n",
       "[68 rows x 1269 columns]"
      ]
     },
     "execution_count": 2,
     "metadata": {},
     "output_type": "execute_result"
    }
   ],
   "source": [
    "fl_cases = cases[cases[\"State\"] == \"FL\"]\n",
    "fl_deaths = deaths[deaths[\"State\"] == \"FL\"]\n",
    "\n",
    "fl_cases"
   ]
  },
  {
   "cell_type": "markdown",
   "metadata": {},
   "source": [
    "## TODO: Add confidance intervels."
   ]
  },
  {
   "cell_type": "code",
   "execution_count": 44,
   "metadata": {},
   "outputs": [
    {
     "data": {
      "application/vnd.plotly.v1+json": {
       "config": {
        "plotlyServerURL": "https://plot.ly"
       },
       "data": [
        {
         "hovertemplate": "week=%{x}<br>sum=%{y}<extra></extra>",
         "legendgroup": "",
         "line": {
          "color": "#636efa",
          "dash": "solid"
         },
         "marker": {
          "symbol": "circle"
         },
         "mode": "lines",
         "name": "true value",
         "orientation": "v",
         "showlegend": false,
         "type": "scatter",
         "x": [
          0,
          1,
          2,
          3,
          4,
          5,
          6,
          7,
          8,
          9,
          10,
          11,
          12,
          13,
          14,
          15,
          16,
          17,
          18,
          19,
          20,
          21,
          22,
          23,
          24,
          25,
          26,
          27,
          28,
          29,
          30,
          31
         ],
         "xaxis": "x",
         "y": [
          926.5918367346939,
          1347.4489795918366,
          2438.1020408163267,
          4415.34693877551,
          7599.448979591836,
          9175.510204081633,
          11450.244897959185,
          10899.816326530612,
          9888.367346938776,
          7240.734693877551,
          6416.6122448979595,
          4612.448979591837,
          3373.836734693877,
          3455.1428571428573,
          2739.5102040816323,
          2732.6938775510203,
          2635.3673469387754,
          2292.979591836735,
          2339.8979591836733,
          2821.224489795918,
          3207.0204081632655,
          3860.0408163265306,
          4639.102040816327,
          5338.897959183674,
          7086.857142857143,
          7727.530612244897,
          8595.877551020409,
          9501.877551020409,
          10470.183673469388,
          10682.69387755102,
          11097.877551020409,
          15386.73469387755
         ],
         "yaxis": "y"
        },
        {
         "name": "linear prediction",
         "type": "scatter",
         "x": [
          0,
          1,
          2,
          3,
          4,
          5,
          6,
          7,
          8,
          9,
          10,
          11,
          12,
          13,
          14,
          15,
          16,
          17,
          18,
          19,
          20,
          21,
          22,
          23,
          24,
          25,
          26,
          27,
          28,
          29,
          30,
          31,
          32
         ],
         "y": [
          3730.223330241186,
          3885.5234791130515,
          4040.823627984917,
          4196.123776856783,
          4351.423925728648,
          4506.724074600514,
          4662.024223472379,
          4817.324372344245,
          4972.62452121611,
          5127.924670087976,
          5283.224818959841,
          5438.524967831707,
          5593.825116703572,
          5749.125265575438,
          5904.425414447303,
          6059.725563319169,
          6215.0257121910345,
          6370.3258610629,
          6525.6260099347655,
          6680.926158806631,
          6836.226307678497,
          6991.526456550362,
          7146.826605422228,
          7302.126754294093,
          7457.426903165959,
          7612.727052037824,
          7768.02720090969,
          7923.327349781555,
          8078.627498653421,
          8233.927647525286,
          8389.227796397152,
          8544.527945269017,
          8699.828094140883
         ]
        }
       ],
       "layout": {
        "legend": {
         "title": {
          "text": "Legend"
         },
         "tracegroupgap": 0
        },
        "margin": {
         "t": 60
        },
        "showlegend": true,
        "template": {
         "data": {
          "bar": [
           {
            "error_x": {
             "color": "#2a3f5f"
            },
            "error_y": {
             "color": "#2a3f5f"
            },
            "marker": {
             "line": {
              "color": "#E5ECF6",
              "width": 0.5
             },
             "pattern": {
              "fillmode": "overlay",
              "size": 10,
              "solidity": 0.2
             }
            },
            "type": "bar"
           }
          ],
          "barpolar": [
           {
            "marker": {
             "line": {
              "color": "#E5ECF6",
              "width": 0.5
             },
             "pattern": {
              "fillmode": "overlay",
              "size": 10,
              "solidity": 0.2
             }
            },
            "type": "barpolar"
           }
          ],
          "carpet": [
           {
            "aaxis": {
             "endlinecolor": "#2a3f5f",
             "gridcolor": "white",
             "linecolor": "white",
             "minorgridcolor": "white",
             "startlinecolor": "#2a3f5f"
            },
            "baxis": {
             "endlinecolor": "#2a3f5f",
             "gridcolor": "white",
             "linecolor": "white",
             "minorgridcolor": "white",
             "startlinecolor": "#2a3f5f"
            },
            "type": "carpet"
           }
          ],
          "choropleth": [
           {
            "colorbar": {
             "outlinewidth": 0,
             "ticks": ""
            },
            "type": "choropleth"
           }
          ],
          "contour": [
           {
            "colorbar": {
             "outlinewidth": 0,
             "ticks": ""
            },
            "colorscale": [
             [
              0,
              "#0d0887"
             ],
             [
              0.1111111111111111,
              "#46039f"
             ],
             [
              0.2222222222222222,
              "#7201a8"
             ],
             [
              0.3333333333333333,
              "#9c179e"
             ],
             [
              0.4444444444444444,
              "#bd3786"
             ],
             [
              0.5555555555555556,
              "#d8576b"
             ],
             [
              0.6666666666666666,
              "#ed7953"
             ],
             [
              0.7777777777777778,
              "#fb9f3a"
             ],
             [
              0.8888888888888888,
              "#fdca26"
             ],
             [
              1,
              "#f0f921"
             ]
            ],
            "type": "contour"
           }
          ],
          "contourcarpet": [
           {
            "colorbar": {
             "outlinewidth": 0,
             "ticks": ""
            },
            "type": "contourcarpet"
           }
          ],
          "heatmap": [
           {
            "colorbar": {
             "outlinewidth": 0,
             "ticks": ""
            },
            "colorscale": [
             [
              0,
              "#0d0887"
             ],
             [
              0.1111111111111111,
              "#46039f"
             ],
             [
              0.2222222222222222,
              "#7201a8"
             ],
             [
              0.3333333333333333,
              "#9c179e"
             ],
             [
              0.4444444444444444,
              "#bd3786"
             ],
             [
              0.5555555555555556,
              "#d8576b"
             ],
             [
              0.6666666666666666,
              "#ed7953"
             ],
             [
              0.7777777777777778,
              "#fb9f3a"
             ],
             [
              0.8888888888888888,
              "#fdca26"
             ],
             [
              1,
              "#f0f921"
             ]
            ],
            "type": "heatmap"
           }
          ],
          "heatmapgl": [
           {
            "colorbar": {
             "outlinewidth": 0,
             "ticks": ""
            },
            "colorscale": [
             [
              0,
              "#0d0887"
             ],
             [
              0.1111111111111111,
              "#46039f"
             ],
             [
              0.2222222222222222,
              "#7201a8"
             ],
             [
              0.3333333333333333,
              "#9c179e"
             ],
             [
              0.4444444444444444,
              "#bd3786"
             ],
             [
              0.5555555555555556,
              "#d8576b"
             ],
             [
              0.6666666666666666,
              "#ed7953"
             ],
             [
              0.7777777777777778,
              "#fb9f3a"
             ],
             [
              0.8888888888888888,
              "#fdca26"
             ],
             [
              1,
              "#f0f921"
             ]
            ],
            "type": "heatmapgl"
           }
          ],
          "histogram": [
           {
            "marker": {
             "pattern": {
              "fillmode": "overlay",
              "size": 10,
              "solidity": 0.2
             }
            },
            "type": "histogram"
           }
          ],
          "histogram2d": [
           {
            "colorbar": {
             "outlinewidth": 0,
             "ticks": ""
            },
            "colorscale": [
             [
              0,
              "#0d0887"
             ],
             [
              0.1111111111111111,
              "#46039f"
             ],
             [
              0.2222222222222222,
              "#7201a8"
             ],
             [
              0.3333333333333333,
              "#9c179e"
             ],
             [
              0.4444444444444444,
              "#bd3786"
             ],
             [
              0.5555555555555556,
              "#d8576b"
             ],
             [
              0.6666666666666666,
              "#ed7953"
             ],
             [
              0.7777777777777778,
              "#fb9f3a"
             ],
             [
              0.8888888888888888,
              "#fdca26"
             ],
             [
              1,
              "#f0f921"
             ]
            ],
            "type": "histogram2d"
           }
          ],
          "histogram2dcontour": [
           {
            "colorbar": {
             "outlinewidth": 0,
             "ticks": ""
            },
            "colorscale": [
             [
              0,
              "#0d0887"
             ],
             [
              0.1111111111111111,
              "#46039f"
             ],
             [
              0.2222222222222222,
              "#7201a8"
             ],
             [
              0.3333333333333333,
              "#9c179e"
             ],
             [
              0.4444444444444444,
              "#bd3786"
             ],
             [
              0.5555555555555556,
              "#d8576b"
             ],
             [
              0.6666666666666666,
              "#ed7953"
             ],
             [
              0.7777777777777778,
              "#fb9f3a"
             ],
             [
              0.8888888888888888,
              "#fdca26"
             ],
             [
              1,
              "#f0f921"
             ]
            ],
            "type": "histogram2dcontour"
           }
          ],
          "mesh3d": [
           {
            "colorbar": {
             "outlinewidth": 0,
             "ticks": ""
            },
            "type": "mesh3d"
           }
          ],
          "parcoords": [
           {
            "line": {
             "colorbar": {
              "outlinewidth": 0,
              "ticks": ""
             }
            },
            "type": "parcoords"
           }
          ],
          "pie": [
           {
            "automargin": true,
            "type": "pie"
           }
          ],
          "scatter": [
           {
            "fillpattern": {
             "fillmode": "overlay",
             "size": 10,
             "solidity": 0.2
            },
            "type": "scatter"
           }
          ],
          "scatter3d": [
           {
            "line": {
             "colorbar": {
              "outlinewidth": 0,
              "ticks": ""
             }
            },
            "marker": {
             "colorbar": {
              "outlinewidth": 0,
              "ticks": ""
             }
            },
            "type": "scatter3d"
           }
          ],
          "scattercarpet": [
           {
            "marker": {
             "colorbar": {
              "outlinewidth": 0,
              "ticks": ""
             }
            },
            "type": "scattercarpet"
           }
          ],
          "scattergeo": [
           {
            "marker": {
             "colorbar": {
              "outlinewidth": 0,
              "ticks": ""
             }
            },
            "type": "scattergeo"
           }
          ],
          "scattergl": [
           {
            "marker": {
             "colorbar": {
              "outlinewidth": 0,
              "ticks": ""
             }
            },
            "type": "scattergl"
           }
          ],
          "scattermapbox": [
           {
            "marker": {
             "colorbar": {
              "outlinewidth": 0,
              "ticks": ""
             }
            },
            "type": "scattermapbox"
           }
          ],
          "scatterpolar": [
           {
            "marker": {
             "colorbar": {
              "outlinewidth": 0,
              "ticks": ""
             }
            },
            "type": "scatterpolar"
           }
          ],
          "scatterpolargl": [
           {
            "marker": {
             "colorbar": {
              "outlinewidth": 0,
              "ticks": ""
             }
            },
            "type": "scatterpolargl"
           }
          ],
          "scatterternary": [
           {
            "marker": {
             "colorbar": {
              "outlinewidth": 0,
              "ticks": ""
             }
            },
            "type": "scatterternary"
           }
          ],
          "surface": [
           {
            "colorbar": {
             "outlinewidth": 0,
             "ticks": ""
            },
            "colorscale": [
             [
              0,
              "#0d0887"
             ],
             [
              0.1111111111111111,
              "#46039f"
             ],
             [
              0.2222222222222222,
              "#7201a8"
             ],
             [
              0.3333333333333333,
              "#9c179e"
             ],
             [
              0.4444444444444444,
              "#bd3786"
             ],
             [
              0.5555555555555556,
              "#d8576b"
             ],
             [
              0.6666666666666666,
              "#ed7953"
             ],
             [
              0.7777777777777778,
              "#fb9f3a"
             ],
             [
              0.8888888888888888,
              "#fdca26"
             ],
             [
              1,
              "#f0f921"
             ]
            ],
            "type": "surface"
           }
          ],
          "table": [
           {
            "cells": {
             "fill": {
              "color": "#EBF0F8"
             },
             "line": {
              "color": "white"
             }
            },
            "header": {
             "fill": {
              "color": "#C8D4E3"
             },
             "line": {
              "color": "white"
             }
            },
            "type": "table"
           }
          ]
         },
         "layout": {
          "annotationdefaults": {
           "arrowcolor": "#2a3f5f",
           "arrowhead": 0,
           "arrowwidth": 1
          },
          "autotypenumbers": "strict",
          "coloraxis": {
           "colorbar": {
            "outlinewidth": 0,
            "ticks": ""
           }
          },
          "colorscale": {
           "diverging": [
            [
             0,
             "#8e0152"
            ],
            [
             0.1,
             "#c51b7d"
            ],
            [
             0.2,
             "#de77ae"
            ],
            [
             0.3,
             "#f1b6da"
            ],
            [
             0.4,
             "#fde0ef"
            ],
            [
             0.5,
             "#f7f7f7"
            ],
            [
             0.6,
             "#e6f5d0"
            ],
            [
             0.7,
             "#b8e186"
            ],
            [
             0.8,
             "#7fbc41"
            ],
            [
             0.9,
             "#4d9221"
            ],
            [
             1,
             "#276419"
            ]
           ],
           "sequential": [
            [
             0,
             "#0d0887"
            ],
            [
             0.1111111111111111,
             "#46039f"
            ],
            [
             0.2222222222222222,
             "#7201a8"
            ],
            [
             0.3333333333333333,
             "#9c179e"
            ],
            [
             0.4444444444444444,
             "#bd3786"
            ],
            [
             0.5555555555555556,
             "#d8576b"
            ],
            [
             0.6666666666666666,
             "#ed7953"
            ],
            [
             0.7777777777777778,
             "#fb9f3a"
            ],
            [
             0.8888888888888888,
             "#fdca26"
            ],
            [
             1,
             "#f0f921"
            ]
           ],
           "sequentialminus": [
            [
             0,
             "#0d0887"
            ],
            [
             0.1111111111111111,
             "#46039f"
            ],
            [
             0.2222222222222222,
             "#7201a8"
            ],
            [
             0.3333333333333333,
             "#9c179e"
            ],
            [
             0.4444444444444444,
             "#bd3786"
            ],
            [
             0.5555555555555556,
             "#d8576b"
            ],
            [
             0.6666666666666666,
             "#ed7953"
            ],
            [
             0.7777777777777778,
             "#fb9f3a"
            ],
            [
             0.8888888888888888,
             "#fdca26"
            ],
            [
             1,
             "#f0f921"
            ]
           ]
          },
          "colorway": [
           "#636efa",
           "#EF553B",
           "#00cc96",
           "#ab63fa",
           "#FFA15A",
           "#19d3f3",
           "#FF6692",
           "#B6E880",
           "#FF97FF",
           "#FECB52"
          ],
          "font": {
           "color": "#2a3f5f"
          },
          "geo": {
           "bgcolor": "white",
           "lakecolor": "white",
           "landcolor": "#E5ECF6",
           "showlakes": true,
           "showland": true,
           "subunitcolor": "white"
          },
          "hoverlabel": {
           "align": "left"
          },
          "hovermode": "closest",
          "mapbox": {
           "style": "light"
          },
          "paper_bgcolor": "white",
          "plot_bgcolor": "#E5ECF6",
          "polar": {
           "angularaxis": {
            "gridcolor": "white",
            "linecolor": "white",
            "ticks": ""
           },
           "bgcolor": "#E5ECF6",
           "radialaxis": {
            "gridcolor": "white",
            "linecolor": "white",
            "ticks": ""
           }
          },
          "scene": {
           "xaxis": {
            "backgroundcolor": "#E5ECF6",
            "gridcolor": "white",
            "gridwidth": 2,
            "linecolor": "white",
            "showbackground": true,
            "ticks": "",
            "zerolinecolor": "white"
           },
           "yaxis": {
            "backgroundcolor": "#E5ECF6",
            "gridcolor": "white",
            "gridwidth": 2,
            "linecolor": "white",
            "showbackground": true,
            "ticks": "",
            "zerolinecolor": "white"
           },
           "zaxis": {
            "backgroundcolor": "#E5ECF6",
            "gridcolor": "white",
            "gridwidth": 2,
            "linecolor": "white",
            "showbackground": true,
            "ticks": "",
            "zerolinecolor": "white"
           }
          },
          "shapedefaults": {
           "line": {
            "color": "#2a3f5f"
           }
          },
          "ternary": {
           "aaxis": {
            "gridcolor": "white",
            "linecolor": "white",
            "ticks": ""
           },
           "baxis": {
            "gridcolor": "white",
            "linecolor": "white",
            "ticks": ""
           },
           "bgcolor": "#E5ECF6",
           "caxis": {
            "gridcolor": "white",
            "linecolor": "white",
            "ticks": ""
           }
          },
          "title": {
           "x": 0.05
          },
          "xaxis": {
           "automargin": true,
           "gridcolor": "white",
           "linecolor": "white",
           "ticks": "",
           "title": {
            "standoff": 15
           },
           "zerolinecolor": "white",
           "zerolinewidth": 2
          },
          "yaxis": {
           "automargin": true,
           "gridcolor": "white",
           "linecolor": "white",
           "ticks": "",
           "title": {
            "standoff": 15
           },
           "zerolinecolor": "white",
           "zerolinewidth": 2
          }
         }
        },
        "xaxis": {
         "anchor": "y",
         "domain": [
          0,
          1
         ],
         "title": {
          "text": "week"
         }
        },
        "yaxis": {
         "anchor": "x",
         "domain": [
          0,
          1
         ],
         "title": {
          "text": "sum"
         }
        }
       }
      },
      "text/html": [
       "<div>                            <div id=\"19fea5ee-6022-42fb-ab72-93e7d3fc72bb\" class=\"plotly-graph-div\" style=\"height:525px; width:100%;\"></div>            <script type=\"text/javascript\">                require([\"plotly\"], function(Plotly) {                    window.PLOTLYENV=window.PLOTLYENV || {};                                    if (document.getElementById(\"19fea5ee-6022-42fb-ab72-93e7d3fc72bb\")) {                    Plotly.newPlot(                        \"19fea5ee-6022-42fb-ab72-93e7d3fc72bb\",                        [{\"hovertemplate\":\"week=%{x}<br>sum=%{y}<extra></extra>\",\"legendgroup\":\"\",\"line\":{\"color\":\"#636efa\",\"dash\":\"solid\"},\"marker\":{\"symbol\":\"circle\"},\"mode\":\"lines\",\"name\":\"true value\",\"orientation\":\"v\",\"showlegend\":false,\"x\":[0,1,2,3,4,5,6,7,8,9,10,11,12,13,14,15,16,17,18,19,20,21,22,23,24,25,26,27,28,29,30,31],\"xaxis\":\"x\",\"y\":[926.5918367346939,1347.4489795918366,2438.1020408163267,4415.34693877551,7599.448979591836,9175.510204081633,11450.244897959185,10899.816326530612,9888.367346938776,7240.734693877551,6416.6122448979595,4612.448979591837,3373.836734693877,3455.1428571428573,2739.5102040816323,2732.6938775510203,2635.3673469387754,2292.979591836735,2339.8979591836733,2821.224489795918,3207.0204081632655,3860.0408163265306,4639.102040816327,5338.897959183674,7086.857142857143,7727.530612244897,8595.877551020409,9501.877551020409,10470.183673469388,10682.69387755102,11097.877551020409,15386.73469387755],\"yaxis\":\"y\",\"type\":\"scatter\"},{\"name\":\"linear prediction\",\"x\":[0,1,2,3,4,5,6,7,8,9,10,11,12,13,14,15,16,17,18,19,20,21,22,23,24,25,26,27,28,29,30,31,32],\"y\":[3730.223330241186,3885.5234791130515,4040.823627984917,4196.123776856783,4351.423925728648,4506.724074600514,4662.024223472379,4817.324372344245,4972.62452121611,5127.924670087976,5283.224818959841,5438.524967831707,5593.825116703572,5749.125265575438,5904.425414447303,6059.725563319169,6215.0257121910345,6370.3258610629,6525.6260099347655,6680.926158806631,6836.226307678497,6991.526456550362,7146.826605422228,7302.126754294093,7457.426903165959,7612.727052037824,7768.02720090969,7923.327349781555,8078.627498653421,8233.927647525286,8389.227796397152,8544.527945269017,8699.828094140883],\"type\":\"scatter\"}],                        {\"template\":{\"data\":{\"histogram2dcontour\":[{\"type\":\"histogram2dcontour\",\"colorbar\":{\"outlinewidth\":0,\"ticks\":\"\"},\"colorscale\":[[0.0,\"#0d0887\"],[0.1111111111111111,\"#46039f\"],[0.2222222222222222,\"#7201a8\"],[0.3333333333333333,\"#9c179e\"],[0.4444444444444444,\"#bd3786\"],[0.5555555555555556,\"#d8576b\"],[0.6666666666666666,\"#ed7953\"],[0.7777777777777778,\"#fb9f3a\"],[0.8888888888888888,\"#fdca26\"],[1.0,\"#f0f921\"]]}],\"choropleth\":[{\"type\":\"choropleth\",\"colorbar\":{\"outlinewidth\":0,\"ticks\":\"\"}}],\"histogram2d\":[{\"type\":\"histogram2d\",\"colorbar\":{\"outlinewidth\":0,\"ticks\":\"\"},\"colorscale\":[[0.0,\"#0d0887\"],[0.1111111111111111,\"#46039f\"],[0.2222222222222222,\"#7201a8\"],[0.3333333333333333,\"#9c179e\"],[0.4444444444444444,\"#bd3786\"],[0.5555555555555556,\"#d8576b\"],[0.6666666666666666,\"#ed7953\"],[0.7777777777777778,\"#fb9f3a\"],[0.8888888888888888,\"#fdca26\"],[1.0,\"#f0f921\"]]}],\"heatmap\":[{\"type\":\"heatmap\",\"colorbar\":{\"outlinewidth\":0,\"ticks\":\"\"},\"colorscale\":[[0.0,\"#0d0887\"],[0.1111111111111111,\"#46039f\"],[0.2222222222222222,\"#7201a8\"],[0.3333333333333333,\"#9c179e\"],[0.4444444444444444,\"#bd3786\"],[0.5555555555555556,\"#d8576b\"],[0.6666666666666666,\"#ed7953\"],[0.7777777777777778,\"#fb9f3a\"],[0.8888888888888888,\"#fdca26\"],[1.0,\"#f0f921\"]]}],\"heatmapgl\":[{\"type\":\"heatmapgl\",\"colorbar\":{\"outlinewidth\":0,\"ticks\":\"\"},\"colorscale\":[[0.0,\"#0d0887\"],[0.1111111111111111,\"#46039f\"],[0.2222222222222222,\"#7201a8\"],[0.3333333333333333,\"#9c179e\"],[0.4444444444444444,\"#bd3786\"],[0.5555555555555556,\"#d8576b\"],[0.6666666666666666,\"#ed7953\"],[0.7777777777777778,\"#fb9f3a\"],[0.8888888888888888,\"#fdca26\"],[1.0,\"#f0f921\"]]}],\"contourcarpet\":[{\"type\":\"contourcarpet\",\"colorbar\":{\"outlinewidth\":0,\"ticks\":\"\"}}],\"contour\":[{\"type\":\"contour\",\"colorbar\":{\"outlinewidth\":0,\"ticks\":\"\"},\"colorscale\":[[0.0,\"#0d0887\"],[0.1111111111111111,\"#46039f\"],[0.2222222222222222,\"#7201a8\"],[0.3333333333333333,\"#9c179e\"],[0.4444444444444444,\"#bd3786\"],[0.5555555555555556,\"#d8576b\"],[0.6666666666666666,\"#ed7953\"],[0.7777777777777778,\"#fb9f3a\"],[0.8888888888888888,\"#fdca26\"],[1.0,\"#f0f921\"]]}],\"surface\":[{\"type\":\"surface\",\"colorbar\":{\"outlinewidth\":0,\"ticks\":\"\"},\"colorscale\":[[0.0,\"#0d0887\"],[0.1111111111111111,\"#46039f\"],[0.2222222222222222,\"#7201a8\"],[0.3333333333333333,\"#9c179e\"],[0.4444444444444444,\"#bd3786\"],[0.5555555555555556,\"#d8576b\"],[0.6666666666666666,\"#ed7953\"],[0.7777777777777778,\"#fb9f3a\"],[0.8888888888888888,\"#fdca26\"],[1.0,\"#f0f921\"]]}],\"mesh3d\":[{\"type\":\"mesh3d\",\"colorbar\":{\"outlinewidth\":0,\"ticks\":\"\"}}],\"scatter\":[{\"fillpattern\":{\"fillmode\":\"overlay\",\"size\":10,\"solidity\":0.2},\"type\":\"scatter\"}],\"parcoords\":[{\"type\":\"parcoords\",\"line\":{\"colorbar\":{\"outlinewidth\":0,\"ticks\":\"\"}}}],\"scatterpolargl\":[{\"type\":\"scatterpolargl\",\"marker\":{\"colorbar\":{\"outlinewidth\":0,\"ticks\":\"\"}}}],\"bar\":[{\"error_x\":{\"color\":\"#2a3f5f\"},\"error_y\":{\"color\":\"#2a3f5f\"},\"marker\":{\"line\":{\"color\":\"#E5ECF6\",\"width\":0.5},\"pattern\":{\"fillmode\":\"overlay\",\"size\":10,\"solidity\":0.2}},\"type\":\"bar\"}],\"scattergeo\":[{\"type\":\"scattergeo\",\"marker\":{\"colorbar\":{\"outlinewidth\":0,\"ticks\":\"\"}}}],\"scatterpolar\":[{\"type\":\"scatterpolar\",\"marker\":{\"colorbar\":{\"outlinewidth\":0,\"ticks\":\"\"}}}],\"histogram\":[{\"marker\":{\"pattern\":{\"fillmode\":\"overlay\",\"size\":10,\"solidity\":0.2}},\"type\":\"histogram\"}],\"scattergl\":[{\"type\":\"scattergl\",\"marker\":{\"colorbar\":{\"outlinewidth\":0,\"ticks\":\"\"}}}],\"scatter3d\":[{\"type\":\"scatter3d\",\"line\":{\"colorbar\":{\"outlinewidth\":0,\"ticks\":\"\"}},\"marker\":{\"colorbar\":{\"outlinewidth\":0,\"ticks\":\"\"}}}],\"scattermapbox\":[{\"type\":\"scattermapbox\",\"marker\":{\"colorbar\":{\"outlinewidth\":0,\"ticks\":\"\"}}}],\"scatterternary\":[{\"type\":\"scatterternary\",\"marker\":{\"colorbar\":{\"outlinewidth\":0,\"ticks\":\"\"}}}],\"scattercarpet\":[{\"type\":\"scattercarpet\",\"marker\":{\"colorbar\":{\"outlinewidth\":0,\"ticks\":\"\"}}}],\"carpet\":[{\"aaxis\":{\"endlinecolor\":\"#2a3f5f\",\"gridcolor\":\"white\",\"linecolor\":\"white\",\"minorgridcolor\":\"white\",\"startlinecolor\":\"#2a3f5f\"},\"baxis\":{\"endlinecolor\":\"#2a3f5f\",\"gridcolor\":\"white\",\"linecolor\":\"white\",\"minorgridcolor\":\"white\",\"startlinecolor\":\"#2a3f5f\"},\"type\":\"carpet\"}],\"table\":[{\"cells\":{\"fill\":{\"color\":\"#EBF0F8\"},\"line\":{\"color\":\"white\"}},\"header\":{\"fill\":{\"color\":\"#C8D4E3\"},\"line\":{\"color\":\"white\"}},\"type\":\"table\"}],\"barpolar\":[{\"marker\":{\"line\":{\"color\":\"#E5ECF6\",\"width\":0.5},\"pattern\":{\"fillmode\":\"overlay\",\"size\":10,\"solidity\":0.2}},\"type\":\"barpolar\"}],\"pie\":[{\"automargin\":true,\"type\":\"pie\"}]},\"layout\":{\"autotypenumbers\":\"strict\",\"colorway\":[\"#636efa\",\"#EF553B\",\"#00cc96\",\"#ab63fa\",\"#FFA15A\",\"#19d3f3\",\"#FF6692\",\"#B6E880\",\"#FF97FF\",\"#FECB52\"],\"font\":{\"color\":\"#2a3f5f\"},\"hovermode\":\"closest\",\"hoverlabel\":{\"align\":\"left\"},\"paper_bgcolor\":\"white\",\"plot_bgcolor\":\"#E5ECF6\",\"polar\":{\"bgcolor\":\"#E5ECF6\",\"angularaxis\":{\"gridcolor\":\"white\",\"linecolor\":\"white\",\"ticks\":\"\"},\"radialaxis\":{\"gridcolor\":\"white\",\"linecolor\":\"white\",\"ticks\":\"\"}},\"ternary\":{\"bgcolor\":\"#E5ECF6\",\"aaxis\":{\"gridcolor\":\"white\",\"linecolor\":\"white\",\"ticks\":\"\"},\"baxis\":{\"gridcolor\":\"white\",\"linecolor\":\"white\",\"ticks\":\"\"},\"caxis\":{\"gridcolor\":\"white\",\"linecolor\":\"white\",\"ticks\":\"\"}},\"coloraxis\":{\"colorbar\":{\"outlinewidth\":0,\"ticks\":\"\"}},\"colorscale\":{\"sequential\":[[0.0,\"#0d0887\"],[0.1111111111111111,\"#46039f\"],[0.2222222222222222,\"#7201a8\"],[0.3333333333333333,\"#9c179e\"],[0.4444444444444444,\"#bd3786\"],[0.5555555555555556,\"#d8576b\"],[0.6666666666666666,\"#ed7953\"],[0.7777777777777778,\"#fb9f3a\"],[0.8888888888888888,\"#fdca26\"],[1.0,\"#f0f921\"]],\"sequentialminus\":[[0.0,\"#0d0887\"],[0.1111111111111111,\"#46039f\"],[0.2222222222222222,\"#7201a8\"],[0.3333333333333333,\"#9c179e\"],[0.4444444444444444,\"#bd3786\"],[0.5555555555555556,\"#d8576b\"],[0.6666666666666666,\"#ed7953\"],[0.7777777777777778,\"#fb9f3a\"],[0.8888888888888888,\"#fdca26\"],[1.0,\"#f0f921\"]],\"diverging\":[[0,\"#8e0152\"],[0.1,\"#c51b7d\"],[0.2,\"#de77ae\"],[0.3,\"#f1b6da\"],[0.4,\"#fde0ef\"],[0.5,\"#f7f7f7\"],[0.6,\"#e6f5d0\"],[0.7,\"#b8e186\"],[0.8,\"#7fbc41\"],[0.9,\"#4d9221\"],[1,\"#276419\"]]},\"xaxis\":{\"gridcolor\":\"white\",\"linecolor\":\"white\",\"ticks\":\"\",\"title\":{\"standoff\":15},\"zerolinecolor\":\"white\",\"automargin\":true,\"zerolinewidth\":2},\"yaxis\":{\"gridcolor\":\"white\",\"linecolor\":\"white\",\"ticks\":\"\",\"title\":{\"standoff\":15},\"zerolinecolor\":\"white\",\"automargin\":true,\"zerolinewidth\":2},\"scene\":{\"xaxis\":{\"backgroundcolor\":\"#E5ECF6\",\"gridcolor\":\"white\",\"linecolor\":\"white\",\"showbackground\":true,\"ticks\":\"\",\"zerolinecolor\":\"white\",\"gridwidth\":2},\"yaxis\":{\"backgroundcolor\":\"#E5ECF6\",\"gridcolor\":\"white\",\"linecolor\":\"white\",\"showbackground\":true,\"ticks\":\"\",\"zerolinecolor\":\"white\",\"gridwidth\":2},\"zaxis\":{\"backgroundcolor\":\"#E5ECF6\",\"gridcolor\":\"white\",\"linecolor\":\"white\",\"showbackground\":true,\"ticks\":\"\",\"zerolinecolor\":\"white\",\"gridwidth\":2}},\"shapedefaults\":{\"line\":{\"color\":\"#2a3f5f\"}},\"annotationdefaults\":{\"arrowcolor\":\"#2a3f5f\",\"arrowhead\":0,\"arrowwidth\":1},\"geo\":{\"bgcolor\":\"white\",\"landcolor\":\"#E5ECF6\",\"subunitcolor\":\"white\",\"showland\":true,\"showlakes\":true,\"lakecolor\":\"white\"},\"title\":{\"x\":0.05},\"mapbox\":{\"style\":\"light\"}}},\"xaxis\":{\"anchor\":\"y\",\"domain\":[0.0,1.0],\"title\":{\"text\":\"week\"}},\"yaxis\":{\"anchor\":\"x\",\"domain\":[0.0,1.0],\"title\":{\"text\":\"sum\"}},\"legend\":{\"tracegroupgap\":0,\"title\":{\"text\":\"Legend\"}},\"margin\":{\"t\":60},\"showlegend\":true},                        {\"responsive\": true}                    ).then(function(){\n",
       "                            \n",
       "var gd = document.getElementById('19fea5ee-6022-42fb-ab72-93e7d3fc72bb');\n",
       "var x = new MutationObserver(function (mutations, observer) {{\n",
       "        var display = window.getComputedStyle(gd).display;\n",
       "        if (!display || display === 'none') {{\n",
       "            console.log([gd, 'removed!']);\n",
       "            Plotly.purge(gd);\n",
       "            observer.disconnect();\n",
       "        }}\n",
       "}});\n",
       "\n",
       "// Listen for the removal of the full notebook cells\n",
       "var notebookContainer = gd.closest('#notebook-container');\n",
       "if (notebookContainer) {{\n",
       "    x.observe(notebookContainer, {childList: true});\n",
       "}}\n",
       "\n",
       "// Listen for the clearing of the current output cell\n",
       "var outputEl = gd.closest('.output');\n",
       "if (outputEl) {{\n",
       "    x.observe(outputEl, {childList: true});\n",
       "}}\n",
       "\n",
       "                        })                };                });            </script>        </div>"
      ]
     },
     "metadata": {},
     "output_type": "display_data"
    },
    {
     "data": {
      "image/png": "[encoded data removed]",
      "text/plain": [
       "<Figure size 640x480 with 1 Axes>"
      ]
     },
     "metadata": {},
     "output_type": "display_data"
    }
   ],
   "source": [
    "def create_linear_plot(data, title = None):\n",
    "    data_dates = get_dates(data)\n",
    "    data_weekly = get_weekly(data_dates)\n",
    "    #Make cases have an int rather than a date for regression.\n",
    "    data_weekly[\"week\"] = [i for i in range(len(data_weekly))]\n",
    "    \n",
    "    #Using https://stattrek.com/regression/slope-confidence-interval and https://stattrek.com/estimation/margin-of-error for algorithem for finding margin of error\n",
    "    \n",
    "    #Initial plot\n",
    "    #data_weekly.plot(x = \"week\")\n",
    "    \n",
    "    fig = px.line(data_weekly, x = \"week\", y = \"sum\")\n",
    "    #Got from https://stackoverflow.com/questions/73834875/plotly-express-how-to-show-legend\n",
    "    \n",
    "    fig.for_each_trace(lambda x: x.update(name = \"true value\"))\n",
    "    fig.update_layout(legend_title=\"Legend\")\n",
    "    \n",
    "    \n",
    "    #Make linear regression for cases\n",
    "\n",
    "    lin_reg = LinearRegression()\n",
    "    X = np.array(data_weekly[\"week\"]).reshape(-1,1)\n",
    "    lin_reg.fit(X, data_weekly[\"sum\"])\n",
    "    \n",
    "    '''\n",
    "    \n",
    "    #Get error for confidance intervels\n",
    "    y_predict = lin_reg.predict(X)\n",
    "    y_err = math.sqrt(sum((y_predict-data_weekly[\"sum\"])**2)/(len(y_predict) - 2))\n",
    "    x_bar = sum(data_weekly[\"week\"])/len(data_weekly[\"week\"])\n",
    "    x_err = math.sqrt(sum((data_weekly[\"week\"] - x_bar)**2)) #Note: This is allways 0\n",
    "    #print(sum(data_weekly[\"week\"])/len(data_weekly[\"week\"]))\n",
    "    #print(y_err)\n",
    "    #print(x_err)\n",
    "    \n",
    "    std_error = y_err/x_err\n",
    "    #print(std_error)\n",
    "    '''\n",
    "    \n",
    "    #TODO: Get confidance intervels from std_err and plot it.\n",
    "    \n",
    "    #Initial plot\n",
    "\n",
    "    X_reg = np.array([i for i in range(len(data_weekly) + 1)]).reshape(-1,1)\n",
    "    y_reg = lin_reg.predict(X_reg)\n",
    "    \n",
    "    #print(X_reg)\n",
    "    \n",
    "    reg_df = pd.DataFrame(X_reg, columns = [\"X_reg\"])\n",
    "    y_frame = pd.DataFrame(y_reg, columns = [\"y_reg\"])\n",
    "    #print(reg_df)\n",
    "    reg_df = reg_df.join(y_frame)\n",
    "    \n",
    "    fig.add_scatter(x = reg_df[\"X_reg\"], y = reg_df[\"y_reg\"], name = \"linear prediction\")\n",
    "    fig.update_layout(showlegend=True)\n",
    "    \n",
    "    \n",
    "    \n",
    "    #print(reg_df)\n",
    "    if title != None:\n",
    "        plt.title(title)\n",
    "        fig.update(title = title)\n",
    "    plt.plot(X_reg,y_reg)\n",
    "    \n",
    "    fig.show()\n",
    "    \n",
    "    \n",
    "    \n",
    "    \n",
    "\n",
    "create_linear_plot(fl_cases)\n",
    "\n"
   ]
  },
  {
   "cell_type": "code",
   "execution_count": 30,
   "metadata": {},
   "outputs": [
    {
     "data": {
      "image/png": "[encoded data removed]",
      "text/plain": [
       "<Figure size 640x480 with 1 Axes>"
      ]
     },
     "metadata": {},
     "output_type": "display_data"
    }
   ],
   "source": [
    "def create_polynomial_plot(data, degree = 5, title = None):\n",
    "    data_dates = get_dates(data)\n",
    "    data_weekly = get_weekly(data_dates)\n",
    "    #Make cases have an int rather than a date for regression.\n",
    "    data_weekly[\"week\"] = [i for i in range(len(data_weekly))]\n",
    "    \n",
    "    #Initial plot\n",
    "    data_weekly.plot(x = \"week\")\n",
    "    \n",
    "    #Make polynomial regression for cases\n",
    "    poly_features = PolynomialFeatures(degree = degree)\n",
    "    lin_reg = LinearRegression()\n",
    "    X = np.array(data_weekly[\"week\"]).reshape(-1,1)\n",
    "    \n",
    "    X_poly = poly_features.fit_transform(X)\n",
    "    #print(X_poly)\n",
    "    lin_reg.fit(X_poly, data_weekly[\"sum\"])\n",
    "    \n",
    "    \n",
    "    #Initial plot\n",
    "\n",
    "    X_reg = poly_features.fit_transform(np.array([i for i in range(len(data_weekly) + 1)]).reshape(-1,1))\n",
    "    X_plot = np.array([i for i in range(len(data_weekly) + 1)]).reshape(-1,1)\n",
    "    y_reg = lin_reg.predict(X_reg)\n",
    "\n",
    "    plt.plot(X_plot,y_reg)\n",
    "    if title != None:\n",
    "        plt.title(title)\n",
    "create_polynomial_plot(fl_cases)"
   ]
  },
  {
   "cell_type": "code",
   "execution_count": null,
   "metadata": {},
   "outputs": [],
   "source": [
    "print(\"Florida cases linear\")\n",
    "create_linear_plot(fl_cases, title = \"Florida cases linear\")\n"
   ]
  },
  {
   "cell_type": "code",
   "execution_count": null,
   "metadata": {},
   "outputs": [],
   "source": [
    "print(\"Florida cases polynomial\")\n",
    "create_polynomial_plot(fl_cases, title = \"Florida cases polynomial\")"
   ]
  },
  {
   "cell_type": "code",
   "execution_count": null,
   "metadata": {},
   "outputs": [],
   "source": [
    "print(\"Florida deaths linear\")\n",
    "create_linear_plot(fl_deaths, title = \"Florida deaths linear\")\n"
   ]
  },
  {
   "cell_type": "code",
   "execution_count": null,
   "metadata": {},
   "outputs": [],
   "source": [
    "print(\"Florida deaths polynomial\")\n",
    "create_polynomial_plot(fl_deaths, title = \"Florida deaths polynomial\")"
   ]
  },
  {
   "cell_type": "markdown",
   "metadata": {},
   "source": [
    "\n"
   ]
  },
  {
   "cell_type": "markdown",
   "metadata": {},
   "source": [
    "## Identify which counties are most at risk. Model for top 5 counties with cases within a state and describe their trends. (10 points)"
   ]
  },
  {
   "cell_type": "markdown",
   "metadata": {},
   "source": [
    "#### Select top 5 infected counties\n"
   ]
  },
  {
   "cell_type": "code",
   "execution_count": null,
   "metadata": {},
   "outputs": [],
   "source": [
    "test_cases = pd.read_csv(\"covid_confirmed_usafacts.csv\", index_col = \"countyFIPS\")\n",
    "test_deaths = pd.read_csv(\"covid_deaths_usafacts.csv\", index_col = \"countyFIPS\")\n",
    "test_cases = test_cases[test_cases[\"State\"] == \"FL\"]\n",
    "test_cases"
   ]
  },
  {
   "cell_type": "code",
   "execution_count": null,
   "metadata": {},
   "outputs": [],
   "source": [
    "test_dates = get_dates(test_cases)\n",
    "\n",
    "\n",
    "#Sum # of cases\n",
    "\n",
    "ordered_vals = test_dates.sum(axis = 1).sort_values().index #Gives countyFIPS of counties in rising order of infections\n",
    "\n",
    "counties = ordered_vals[-5 :]\n",
    "counties"
   ]
  },
  {
   "cell_type": "code",
   "execution_count": null,
   "metadata": {},
   "outputs": [],
   "source": [
    "county_list = counties.to_list()\n",
    "\n",
    "county_cases = test_cases.loc[county_list,:]\n",
    "county_cases"
   ]
  },
  {
   "cell_type": "code",
   "execution_count": null,
   "metadata": {},
   "outputs": [],
   "source": [
    "county_deaths = test_deaths.loc[county_list,:]\n",
    "county_deaths"
   ]
  },
  {
   "cell_type": "code",
   "execution_count": null,
   "metadata": {},
   "outputs": [],
   "source": [
    "#TODO: Split into 5 dataframes, one for each county\n",
    "\n",
    "county_cases_split = [county_cases.loc[[i], :] for i in county_list]\n",
    "county_deaths_split = [county_deaths.loc[[i], :] for i in county_list]\n",
    "county_cases_split"
   ]
  },
  {
   "cell_type": "code",
   "execution_count": null,
   "metadata": {},
   "outputs": [],
   "source": [
    "#TODO: call get_dates and get_weekly on each of these to get plotable data\n",
    "\n",
    "for i in county_cases_split:\n",
    "    create_linear_plot(i, title = i[\"County Name\"].iloc[0] + \"Cases Linear\")"
   ]
  },
  {
   "cell_type": "code",
   "execution_count": null,
   "metadata": {},
   "outputs": [],
   "source": [
    "#TODO: Plot all data from county dataframes. Adding extra week of prediction.\n",
    "\n",
    "for i in county_cases_split:\n",
    "    create_polynomial_plot(i, title = i[\"County Name\"].iloc[0] + \"Cases Polynomial\")"
   ]
  },
  {
   "cell_type": "code",
   "execution_count": null,
   "metadata": {},
   "outputs": [],
   "source": [
    "for i in county_deaths_split:\n",
    "    create_linear_plot(i, title = i[\"County Name\"].iloc[0] + \"Deaths Linear\")"
   ]
  },
  {
   "cell_type": "code",
   "execution_count": null,
   "metadata": {
    "scrolled": false
   },
   "outputs": [],
   "source": [
    "for i in county_deaths_split:\n",
    "    create_polynomial_plot(i, title = i[\"County Name\"].iloc[0] + \"Deaths Polynomial\")"
   ]
  },
  {
   "cell_type": "markdown",
   "metadata": {},
   "source": [
    "## Perform hypothesis tests on questions identified in Stage III. (30 points)\n",
    "\n",
    "\n",
    "### Hypothosis questions:\n",
    "    \n",
    "1) Does having a higher total population of hispanic or latino people of any race in a given state lead to more covid-19 infections for that state? (Label: DP05_0073E)\n",
    "\n",
    "2) Does having more people of 35 to 44 years of age in a given state lead to fewer covid-19 infections for that state? (Label: DP05_0011E)\n",
    "\n",
    "3) Does having more people aged 60 to 64 in a given state lead to more covid-19 cases for that state? (Label : DP05_0014E)"
   ]
  },
  {
   "cell_type": "code",
   "execution_count": null,
   "metadata": {},
   "outputs": [],
   "source": [
    "#TODO\n",
    "test_data = pd.read_csv(\"Kevin_Hayes_stage_3_Correlation_Test_Values.csv\")\n",
    "test_data"
   ]
  },
  {
   "cell_type": "code",
   "execution_count": null,
   "metadata": {},
   "outputs": [],
   "source": [
    "test_data_pruned = test_data[[\"State\", \"mean_value\", \"DP05_0073E\", \"DP05_0011E\", \"DP05_0014E\"]]\n",
    "test_data_pruned"
   ]
  },
  {
   "cell_type": "markdown",
   "metadata": {},
   "source": [
    "### Hypothosis 1:\n",
    "\n",
    "Does having a higher total population of hispanic or latino people of any race in a given state lead to more covid-19 infections for that state? (Label: DP05_0073E)\n",
    "\n",
    "Using a p-value of .05\n",
    "\n",
    "Null Hypothesis: having a higher total population of hispanic or latino people of any race in a given state has no effect on number of covid 19 infections in that state\n",
    "\n",
    "Alternate Hypothesis: having a higher total population of hispanic or latino people of any race in a given state increases the number of covid 19 infections in that state"
   ]
  },
  {
   "cell_type": "code",
   "execution_count": null,
   "metadata": {},
   "outputs": [],
   "source": [
    "print(\"Does having a higher total population of hispanic or latino people of any race in a given state lead to more covid-19 infections for that state?\")\n",
    "\n",
    "print(stats.pearsonr(test_data_pruned[\"DP05_0073E\"],test_data_pruned[\"mean_value\"],  alternative = \"greater\"))\n",
    "\n",
    "print(\"As the pvalue is greater than .05, we must fail to reject the null hypothesis and conclude that having a higher total population of hispanic or latino people of any race in a given state most likely does not increase the number of covid 19 infections in that state\")\n",
    "\n",
    "plt.scatter(test_data_pruned[\"DP05_0073E\"], test_data_pruned[\"mean_value\"])"
   ]
  },
  {
   "cell_type": "markdown",
   "metadata": {},
   "source": [
    "## Hypothisis 2: \n",
    "\n",
    "Does having more people of 35 to 44 years of age in a given state lead to fewer covid-19 infections for that state? (Label: DP05_0011E)\n",
    "\n",
    "Using a p-value of .05\n",
    "\n",
    "Null Hypothesis: having more people of 35 to 44 years of age in a given state has no effect on covid-19 infections in that state\n",
    "\n",
    "Alternate Hypothesis: having more people of 35 to 44 years of age in a given state leads to fewer covid-19 infections in that state"
   ]
  },
  {
   "cell_type": "code",
   "execution_count": null,
   "metadata": {},
   "outputs": [],
   "source": [
    "print(\"Does having more people of 35 to 44 years of age in a given state lead to fewer covid-19 infections for that state? (Label: DP05_0011E)\")\n",
    "\n",
    "print(stats.pearsonr(test_data_pruned[\"DP05_0011E\"], test_data_pruned[\"mean_value\"],  alternative = \"less\"))\n",
    "\n",
    "plt.scatter(test_data_pruned[\"DP05_0011E\"], test_data_pruned[\"mean_value\"])\n",
    "\n",
    "print(\"As the pvalue is less than .05, we can reject the null hypothosis and conclude that having more people of 35 to 44 years of age in a given state leads to fewer covid-19 infections\")"
   ]
  },
  {
   "cell_type": "markdown",
   "metadata": {},
   "source": [
    "## Hypothisis 3:\n",
    "\n",
    "Does having more people aged 60 to 64 in a given state lead to more covid-19 cases for that state? (Label : DP05_0014E)\n",
    "\n",
    "Using a p-value of .05\n",
    "\n",
    "Null Hypothesis: having more people aged 60 to 64 in a given state has no effect on covid-19 cases in that state\n",
    "\n",
    "Alternate Hypothesis: having more people aged 60 to 64 in a given state leads to more covid-19 cases in that state"
   ]
  },
  {
   "cell_type": "code",
   "execution_count": null,
   "metadata": {},
   "outputs": [],
   "source": [
    "print(\"Does having more people aged 60 to 64 in a given state lead to more covid-19 cases for that state? (Label : DP05_0014E)\")\n",
    "\n",
    "print(stats.pearsonr(test_data_pruned[\"DP05_0014E\"], test_data_pruned[\"mean_value\"],  alternative = \"greater\"))\n",
    "\n",
    "plt.scatter(test_data_pruned[\"DP05_0014E\"], test_data_pruned[\"mean_value\"])\n",
    "\n",
    "print(\"As our pvalue is less than .05, we can reject the null hypothosis and conclude that having more people aged 60 to 64 in a given state leads to more covid-19 cases in that state\")"
   ]
  },
  {
   "cell_type": "code",
   "execution_count": null,
   "metadata": {},
   "outputs": [],
   "source": []
  }
 ],
 "metadata": {
  "kernelspec": {
   "display_name": "Python 3 (ipykernel)",
   "language": "python",
   "name": "python3"
  },
  "language_info": {
   "codemirror_mode": {
    "name": "ipython",
    "version": 3
   },
   "file_extension": ".py",
   "mimetype": "text/x-python",
   "name": "python",
   "nbconvert_exporter": "python",
   "pygments_lexer": "ipython3",
   "version": "3.11.5"
  },
  "nteract": {
   "version": "0.28.0"
  }
 },
 "nbformat": 4,
 "nbformat_minor": 2
}
