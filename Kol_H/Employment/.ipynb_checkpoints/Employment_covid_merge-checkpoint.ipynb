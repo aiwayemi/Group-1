{
 "cells": [
  {
   "cell_type": "markdown",
   "id": "84bd30ec",
   "metadata": {},
   "source": [
    "## Merge COVID data with Employment data"
   ]
  },
  {
   "cell_type": "code",
   "execution_count": null,
   "id": "a539eee6",
   "metadata": {},
   "outputs": [],
   "source": [
    "import pandas as pd\n",
    "import numpy as np\n",
    "\n",
    "covid = pd.read_csv('../Full_Covid_Data.csv')\n",
    "employment = pd.read_csv('Employment2020-2022.csv')\n",
    "employment.tail()"
   ]
  },
  {
   "cell_type": "code",
   "execution_count": null,
   "id": "edc90b96",
   "metadata": {
    "scrolled": true
   },
   "outputs": [],
   "source": [
    "covid.columns = covid.columns.str.replace('countyFIPS', 'area_fips')\n",
    "covid['area_fips'] = np.where(covid['area_fips'] == 0, covid['StateFIPS_deaths'], covid['area_fips'])\n",
    "covid.area_fips = covid.area_fips.astype(str)\n",
    "employment.area_fips = employment.area_fips.astype(str)\n",
    "employment.area_fips = employment.area_fips.str.replace(\"000\", \"\")\n",
    "\n",
    "covid_employment = covid.merge(employment, on='area_fips', how='outer')\n",
    "covid_employment"
   ]
  },
  {
   "cell_type": "code",
   "execution_count": null,
   "id": "6b397b97",
   "metadata": {},
   "outputs": [],
   "source": [
    "covid_employment.dropna(axis=0)\n",
    "covid_employment = covid_employment[covid_employment.columns.drop(covid_employment.filter(regex='Unnamed:'))]\n",
    "covid_employment.head()"
   ]
  },
  {
   "cell_type": "code",
   "execution_count": null,
   "id": "5c8081fd",
   "metadata": {},
   "outputs": [],
   "source": [
    "covid_employment.to_csv('Merge_Covid_Employment.csv')"
   ]
  }
 ],
 "metadata": {
  "kernelspec": {
   "display_name": "Python 3 (ipykernel)",
   "language": "python",
   "name": "python3"
  },
  "language_info": {
   "codemirror_mode": {
    "name": "ipython",
    "version": 3
   },
   "file_extension": ".py",
   "mimetype": "text/x-python",
   "name": "python",
   "nbconvert_exporter": "python",
   "pygments_lexer": "ipython3",
   "version": "3.11.4"
  }
 },
 "nbformat": 4,
 "nbformat_minor": 5
}
